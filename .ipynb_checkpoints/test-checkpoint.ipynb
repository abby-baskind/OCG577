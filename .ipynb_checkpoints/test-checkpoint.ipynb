{
 "cells": [
  {
   "cell_type": "markdown",
   "id": "3c2ac423-4997-4b8a-b187-a44b0c204453",
   "metadata": {},
   "source": [
    "# OCG577 Python Test\n",
    "Abby Baskind \n",
    "\n",
    "12 September 2023"
   ]
  },
  {
   "cell_type": "code",
   "execution_count": 2,
   "id": "8653eac0-9c59-4a6c-8758-30b9e46cc474",
   "metadata": {},
   "outputs": [],
   "source": [
    "# Basic packages\n",
    "import numpy as np\n",
    "from matplotlib import pyplot as plt\n",
    "import xarray as xr\n",
    "import pandas as pd\n",
    "import math\n",
    "import netCDF4 as nc\n",
    "\n",
    "# DateTime packages\n",
    "from matplotlib.dates import DateFormatter\n",
    "from datetime import datetime, timedelta\n",
    "import time\n",
    "import matplotlib.dates as mdates\n",
    "\n",
    "# Stats packages\n",
    "import scipy\n",
    "import bottleneck as bn\n",
    "import PyCO2SYS as pyco2\n",
    "import gsw\n",
    "from sklearn.linear_model import LinearRegression\n",
    "from sklearn.metrics import mean_squared_error, r2_score\n",
    "import statsmodels.api as sm\n",
    "import seaborn as sns\n",
    "\n",
    "# Logistical packages\n",
    "import requests\n",
    "from importlib import reload\n",
    "import warnings\n",
    "warnings.filterwarnings('ignore')\n",
    "\n",
    "import matplotlib.pyplot as plt\n",
    "import cartopy.crs as ccrs\n",
    "import cartopy.feature as cfeature\n",
    "from matplotlib.offsetbox import AnchoredText\n",
    "\n",
    "# Pylab\n",
    "import pylab"
   ]
  },
  {
   "cell_type": "code",
   "execution_count": 3,
   "id": "4d49304e-6f5b-4af8-aad5-c47ae321c229",
   "metadata": {},
   "outputs": [],
   "source": [
    "def dic_to_uM(dic, S, T):\n",
    "    \"\"\"\n",
    "    This function converts from units of umol/kg to uM [umol/L] by calculating density using an equation of state.\n",
    "        \n",
    "    INPUTS:\n",
    "        - DIC or TA in umol/kg\n",
    "        - Salinity in PSU\n",
    "         - Temperature in degrees C\n",
    "        \n",
    "    OUTPUTS:\n",
    "        - DIC or TA in uM\n",
    "        \n",
    "    \"\"\"\n",
    "    rho =(999.842594 + 0.06793952*T \n",
    "        - 0.00909529*T**2 \n",
    "        + 0.0001001685*T**3  \n",
    "        - 0.000001120083*T**4 \n",
    "        + 0.000000006536332*T**5 \n",
    "        + (0.824493 - 0.0040899*T + 0.000076438*T**2 - 0.00000082467*T**3 + 0.0000000053875*T**4) * S \n",
    "        + (-0.00572466 + 0.00010227*T - 0.0000016546*T**2) * S**(1.5) + 0.00048314*S**2)/1000\n",
    "    dic_out = rho * dic\n",
    "        \n",
    "    return dic_out"
   ]
  },
  {
   "cell_type": "code",
   "execution_count": 4,
   "id": "e81b39be-0029-4f55-a249-61eaed6097d2",
   "metadata": {},
   "outputs": [
    {
     "data": {
      "text/plain": [
       "2041.9077501281686"
      ]
     },
     "execution_count": 4,
     "metadata": {},
     "output_type": "execute_result"
    }
   ],
   "source": [
    "dic_to_uM(2000, 30, 20)"
   ]
  },
  {
   "cell_type": "markdown",
   "id": "a378180f-a7d2-4b2d-aadf-8f9c6d7eae26",
   "metadata": {},
   "source": [
    "Low key I have warnings suppressed but I can assure you there are no errors. And this function also works."
   ]
  },
  {
   "cell_type": "code",
   "execution_count": null,
   "id": "283c7b58-c4b1-4f0e-9fc6-d28abb7bc5b7",
   "metadata": {},
   "outputs": [],
   "source": []
  }
 ],
 "metadata": {
  "kernelspec": {
   "display_name": "Python 3 (ipykernel)",
   "language": "python",
   "name": "python3"
  },
  "language_info": {
   "codemirror_mode": {
    "name": "ipython",
    "version": 3
   },
   "file_extension": ".py",
   "mimetype": "text/x-python",
   "name": "python",
   "nbconvert_exporter": "python",
   "pygments_lexer": "ipython3",
   "version": "3.9.13"
  }
 },
 "nbformat": 4,
 "nbformat_minor": 5
}
