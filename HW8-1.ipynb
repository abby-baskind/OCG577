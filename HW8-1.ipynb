{
 "cells": [
  {
   "cell_type": "markdown",
   "id": "8e0095fe-524a-438d-a9a8-729de02c91b1",
   "metadata": {},
   "source": [
    "# HW 8-1: Box Model\n"
   ]
  },
  {
   "cell_type": "code",
   "execution_count": 1,
   "id": "4396bd03-e3b9-44aa-aceb-43c859ef273e",
   "metadata": {},
   "outputs": [],
   "source": [
    "from matplotlib import pyplot as plt\n",
    "from matplotlib.dates import DateFormatter\n",
    "import numpy as np\n",
    "import xarray as xr\n",
    "import pandas as pd\n",
    "import scipy\n",
    "from datetime import datetime, timedelta\n",
    "import time\n",
    "import seaborn\n",
    "import matplotlib.dates as mdates\n",
    "import bottleneck as bn\n",
    "import PyCO2SYS as pyco2\n",
    "import gsw\n",
    "import math\n",
    "import netCDF4 as nc\n",
    "import requests\n",
    "\n",
    "# Import K's code for calculating the coefficients of the carb system\n",
    "import calc_coeffs as co2\n",
    "import H_poly as hpoly\n",
    "import H_poly2 as hpoly2\n",
    "from importlib import reload\n",
    "import warnings\n",
    "# warnings.filterwarnings('ignore')\n",
    "import cartopy.crs as ccrs\n",
    "import cartopy.mpl.ticker as cticker"
   ]
  },
  {
   "cell_type": "markdown",
   "id": "f9671d97-4685-425b-bf4e-7040da0ba3f6",
   "metadata": {},
   "source": [
    "# Define time step\n",
    "1 year steps for 100 years"
   ]
  },
  {
   "cell_type": "code",
   "execution_count": 48,
   "id": "230e5651-abaa-485b-8b9f-cf6c7d6ca71d",
   "metadata": {},
   "outputs": [
    {
     "data": {
      "text/plain": [
       "array([ 0,  1,  2,  3,  4,  5,  6,  7,  8,  9, 10, 11, 12, 13, 14, 15, 16,\n",
       "       17, 18, 19, 20, 21, 22, 23, 24, 25, 26, 27, 28, 29, 30, 31, 32, 33,\n",
       "       34, 35, 36, 37, 38, 39, 40, 41, 42, 43, 44, 45, 46, 47, 48, 49, 50,\n",
       "       51, 52, 53, 54, 55, 56, 57, 58, 59, 60, 61, 62, 63, 64, 65, 66, 67,\n",
       "       68, 69, 70, 71, 72, 73, 74, 75, 76, 77, 78, 79, 80, 81, 82, 83, 84,\n",
       "       85, 86, 87, 88, 89, 90, 91, 92, 93, 94, 95, 96, 97, 98, 99])"
      ]
     },
     "execution_count": 48,
     "metadata": {},
     "output_type": "execute_result"
    }
   ],
   "source": [
    "time = np.arange(0,100,1)\n",
    "time"
   ]
  },
  {
   "cell_type": "markdown",
   "id": "46ab7d10-2aba-4aea-98d7-28d50e5ec941",
   "metadata": {},
   "source": [
    "# define boxes\n",
    "of the form:\n",
    "```python\n",
    "dim = [box1, box2, box3]\n",
    "```"
   ]
  },
  {
   "cell_type": "code",
   "execution_count": 17,
   "id": "ae001227-119e-4455-afb7-d5e72a2b2354",
   "metadata": {},
   "outputs": [],
   "source": [
    "dx = np.array([17e6, 17e6, 17e6])   # longitude (m)\n",
    "dy = np.array([8e6, 8e6, 16e6])     # latitude (m)\n",
    "dz = np.array([100, 100, 5000])     # depth (m)\n",
    "V = dx * dy * dz                    # volume of each box (m^3)"
   ]
  },
  {
   "cell_type": "markdown",
   "id": "bb68602e-0512-4a40-8f5d-28e812e8f519",
   "metadata": {},
   "source": [
    "# Coefficients"
   ]
  },
  {
   "cell_type": "code",
   "execution_count": 19,
   "id": "41e0e401-f432-47cb-8101-d54a5950eb85",
   "metadata": {},
   "outputs": [],
   "source": [
    "phi = 20e6         # m^3/s\n",
    "k13 = 1e6          # m^3/s\n",
    "k23 = 1e6          # m^3/s\n",
    "k12 = 10e6         # m^3/s\n",
    "\n",
    "# Steady state fluxes\n",
    "k31 = k13          # m^3/s\n",
    "k32 = k23          # m^3/s\n",
    "k21 = k12          # m^3/s"
   ]
  },
  {
   "cell_type": "markdown",
   "id": "343de702-83aa-4aae-8ad3-081d30448096",
   "metadata": {},
   "source": [
    "# Solve with loop\n",
    "Given that all the boxes have the same initial concentration and all the fluxes are in steady state (i.e. the flow from box 1 to box 3 is the same as the flow from box 3 to box 1, and this holds across all boxes), I expect the concentration to not change over time. "
   ]
  },
  {
   "cell_type": "code",
   "execution_count": 65,
   "id": "632a58d4-0cbf-4779-b3e9-9c008bcfa4c5",
   "metadata": {},
   "outputs": [],
   "source": [
    "# time step size\n",
    "dt = 1\n",
    "\n",
    "# Arrays to store concentrations over time\n",
    "C1 = np.zeros(len(time))\n",
    "C2 = np.zeros(len(time))\n",
    "C3 = np.zeros(len(time))\n",
    "\n",
    "# Initial values\n",
    "C1_0 = 1\n",
    "C2_0 = 1\n",
    "C3_0 = 1\n",
    "\n",
    "for t in time:\n",
    "    # Calculate rate of change\n",
    "    dC1dt = (1/V[0])*(phi*(C3[t]-C1[t]) + k31*(C3[t]-C1[t]) + k21*(C2[t]-C1[t]))\n",
    "    dC2dt = (1/V[1])*(phi*(C1[t]-C2[t]) + k12*(C1[t]-C2[t]) + k32*(C3[t]-C2[t]))\n",
    "    dC3dt = (1/V[2])*(phi*(C2[t]-C3[t]) + k23*(C2[t]-C3[t]) + k13*(C1[t]-C3[t]))\n",
    "    \n",
    "    # Calculate concentration at time t\n",
    "    C1[t] = C1_0 + dC1dt * dt\n",
    "    C2[t] = C2_0 + dC2dt * dt\n",
    "    C3[t] = C3_0 + dC3dt * dt\n",
    "    \n",
    "    # Set initial (aka C(t-1)) to latest solution\n",
    "    C1_0 = C1[t]\n",
    "    C2_0 = C2[t]\n",
    "    C2_0 = C2[t]"
   ]
  },
  {
   "cell_type": "code",
   "execution_count": 66,
   "id": "ebdfe6ca-8ae4-42d3-b999-71d3a085b73e",
   "metadata": {},
   "outputs": [
    {
     "data": {
      "text/plain": [
       "<matplotlib.legend.Legend at 0x7ff376a98eb0>"
      ]
     },
     "execution_count": 66,
     "metadata": {},
     "output_type": "execute_result"
    },
    {
     "data": {
      "image/png": "[encoded data removed]",
      "text/plain": [
       "<Figure size 640x480 with 1 Axes>"
      ]
     },
     "metadata": {},
     "output_type": "display_data"
    }
   ],
   "source": [
    "plt.plot(time, C1, label = 'C1',ls = 'dashed', lw = 3)\n",
    "plt.plot(time, C2, label = 'C2', ls = 'dotted', lw = 3)\n",
    "plt.plot(time, C3, label = 'C3', ls = (0, (1, 10)), lw = 3)\n",
    "plt.xlabel('Time [yr]')\n",
    "plt.ylabel('Concentration [unit/m^3]')\n",
    "plt.legend()"
   ]
  },
  {
   "cell_type": "markdown",
   "id": "028385be-8033-45a5-ad7c-aa050394fc73",
   "metadata": {},
   "source": [
    "I guess I was right."
   ]
  },
  {
   "cell_type": "markdown",
   "id": "9f99d585-b3c1-43c7-b951-fc1a561de7c3",
   "metadata": {},
   "source": [
    "# $C_{\\text{total}}$\n",
    "Given that there are no sources or sinks of C and that C is only being advected from one box to another, I expect $C_{\\text{total}}$ to remain constant over time."
   ]
  },
  {
   "cell_type": "code",
   "execution_count": 68,
   "id": "c2f5da82-957b-4e38-8624-26ba7e57b2d8",
   "metadata": {},
   "outputs": [
    {
     "data": {
      "text/plain": [
       "<matplotlib.legend.Legend at 0x7ff376f0c8b0>"
      ]
     },
     "execution_count": 68,
     "metadata": {},
     "output_type": "execute_result"
    },
    {
     "data": {
      "image/png": "[encoded data removed]",
      "text/plain": [
       "<Figure size 640x480 with 1 Axes>"
      ]
     },
     "metadata": {},
     "output_type": "display_data"
    }
   ],
   "source": [
    "Ctot = C1 * V[0] + C2 * V[1] + C3 * V[2]\n",
    "plt.plot(time, Ctot, label = 'Ctot')\n",
    "plt.plot(time, C1 * V[0], label = 'C1')\n",
    "plt.plot(time, C2 * V[1], label = 'C2')\n",
    "plt.plot(time, C3 * V[2], label = 'C3')\n",
    "plt.ylabel('C [unit]')\n",
    "plt.xlabel('Time [yr]')\n",
    "plt.legend()"
   ]
  },
  {
   "cell_type": "markdown",
   "id": "9b483542-9b76-4bd4-bb4f-4e530a58e845",
   "metadata": {},
   "source": [
    "Indeed the total amount stays constant over time. The total amount in each box is constant through time. The amount in C3 is greater than the amount of C1 and C2, since the concentrations are the same across boxes but the box 3 is much larger."
   ]
  },
  {
   "cell_type": "code",
   "execution_count": null,
   "id": "0d900f59-447e-445a-a63a-bf1a1a56bbbf",
   "metadata": {},
   "outputs": [],
   "source": []
  }
 ],
 "metadata": {
  "kernelspec": {
   "display_name": "Python 3 (ipykernel)",
   "language": "python",
   "name": "python3"
  },
  "language_info": {
   "codemirror_mode": {
    "name": "ipython",
    "version": 3
   },
   "file_extension": ".py",
   "mimetype": "text/x-python",
   "name": "python",
   "nbconvert_exporter": "python",
   "pygments_lexer": "ipython3",
   "version": "3.9.13"
  }
 },
 "nbformat": 4,
 "nbformat_minor": 5
}
