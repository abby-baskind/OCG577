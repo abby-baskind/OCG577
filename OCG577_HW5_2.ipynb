{
 "cells": [
  {
   "cell_type": "markdown",
   "id": "7cf65115-e273-421f-a638-1ee4dd99ba3a",
   "metadata": {},
   "source": [
    "# Homework 5-2: Developing a code for carbonate systems\n",
    "## Abby Baskind\n",
    "## 5 October 2023\n",
    "\n",
    "hi gabby"
   ]
  },
  {
   "cell_type": "code",
   "execution_count": 1,
   "id": "2b6381f3-b52f-4f17-8d86-fc95041fe0ee",
   "metadata": {},
   "outputs": [],
   "source": [
    "from matplotlib import pyplot as plt\n",
    "from matplotlib.dates import DateFormatter\n",
    "import numpy as np\n",
    "import xarray as xr\n",
    "import pandas as pd\n",
    "import scipy\n",
    "from datetime import datetime, timedelta\n",
    "import time\n",
    "import seaborn\n",
    "import matplotlib.dates as mdates\n",
    "import bottleneck as bn\n",
    "import PyCO2SYS as pyco2\n",
    "import gsw\n",
    "import math\n",
    "import netCDF4 as nc\n",
    "import requests\n",
    "\n",
    "# Import K's code for calculating the coefficients of the carb system\n",
    "import calc_coeffs as co2\n",
    "import H_poly as hpoly\n",
    "from importlib import reload\n",
    "import warnings\n",
    "# warnings.filterwarnings('ignore')\n",
    "import cartopy.crs as ccrs\n",
    "import cartopy.mpl.ticker as cticker"
   ]
  },
  {
   "cell_type": "code",
   "execution_count": 5,
   "id": "fdfbfe67-31d8-453f-9d0a-261bd98241d3",
   "metadata": {},
   "outputs": [],
   "source": [
    "def pHsolver(TA = None, temperature = None, salinity = None, pCO2 = None, pHlo = None, pHhi = None):\n",
    "    import calc_coeffs as co2\n",
    "    import H_poly as hpoly\n",
    "    import numpy as np \n",
    "    import math\n",
    "    \n",
    "    \"\"\"\n",
    "    This function, as it is currently written, takes TA [umol/kg], temperature [degC], \n",
    "    salinity [PSU], and pCO2 [uatm] to solve for pH [total] and HCO3, CO3, CO2*, and DIC,\n",
    "    all in [umol/kg].\n",
    "    \n",
    "    Arguments for TA, T, S, and pCO2 can be of any length as long as they are all the same\n",
    "    length as each other and do not have NaN values. \n",
    "    \n",
    "    Required dependencies:\n",
    "        - calc_coeffs.py: calculates carbonate system coefficients\n",
    "            function [k1,k2,k0,kb,kw,BT]=calc_coeffs(T,S)\n",
    "            T   = temperature (degrees C)\n",
    "            S   = salinity (PSU)\n",
    "        - H_poly.py: H polynomial root finder\n",
    "    \n",
    "    Inputs:\n",
    "        - total alkalinity in umol/kg\n",
    "        - pCO2 in uatm\n",
    "        - temperature in °C\n",
    "        - salinity in PSU\n",
    "        - OPTIONAL: pHlo and pHhi in total scale\n",
    "            - if pHlo and pHhi not provided, default to 6 and 9\n",
    "    \n",
    "    Returns:\n",
    "        - [H+] in umol/kg\n",
    "        - pH in total scale\n",
    "        - [HCO3] in umol/kg\n",
    "        - [CO3] in umol/kg\n",
    "        - [CO2*] in umol/kg\n",
    "        - Csat = [HCO3] + [CO3] + [CO2*] in umol/kg\n",
    "    \"\"\"\n",
    "    \n",
    "    \n",
    "    # Check that all the inputs are provided\n",
    "    if np.asarray(TA).any() == None:\n",
    "        raise KeyError('Please provide TA [umol/kg] with kwarg \"TA = *value*\".')\n",
    "    if np.asarray(temperature).any() == None:\n",
    "        raise KeyError('Please provide temperature [degC] with kwarg \"temperature = *value*\".')\n",
    "    if np.asarray(salinity).any() == None:\n",
    "        raise KeyError('Please provide salinity [PSU] with kwarg \"salinity = *value*\".')\n",
    "    if np.asarray(pCO2).any() == None:\n",
    "        raise KeyError('Please provide pCO2 [uatm] with kwarg \"pCO2 = *value*\".')\n",
    "        \n",
    "    # If args are not already numpy ndarrays,\n",
    "    # Convert them to ndarrays\n",
    "    if not isinstance(TA,np.ndarray):\n",
    "        TA = np.asarray(TA)\n",
    "    if not isinstance(temperature,np.ndarray):\n",
    "        temperature = np.asarray(temperature)\n",
    "    if not isinstance(salinity,np.ndarray):\n",
    "        salinity = np.asarray(salinity)\n",
    "    if not isinstance(pCO2,np.ndarray):\n",
    "        pCO2 = np.asarray(pCO2)\n",
    "        \n",
    "    # Check for NaN values\n",
    "    if np.isnan(np.min(TA)) or np.isnan(np.min(temperature)) or np.isnan(np.min(salinity)) or np.isnan(np.min(pCO2)):\n",
    "        raise Exception(\"No NaN values allowed.\") \n",
    "    \n",
    "    # Check all input arrays are same size\n",
    "    if not (TA.size == temperature.size and TA.size == salinity.size and TA.size == pCO2.size):\n",
    "        raise Exception(\"Input arrays are not the same size.\") \n",
    "    # If pH limits are not explicitly stated\n",
    "    # Default to 6 and 9\n",
    "    if pHlo == None or pHhi == None:\n",
    "        pHhi = 9\n",
    "        pHlo = 6\n",
    "        \n",
    "    # Check magnitude of TA and pCO2 to guess if units are right\n",
    "    if not TA.min() > 1:\n",
    "        raise Exception('This function takes TA units of umol/kg. Based on the magnitude of your input, we assume you entered TA in mol/kg.')\n",
    "    if not pCO2.min() > 1:\n",
    "        raise Exception('This function takes pCO2 units of uatm. Based on the magnitude of your input, we assume you entered pCO2 in atm.')\n",
    "    TA = TA*1e-6\n",
    "    pCO2 = pCO2*1e-6\n",
    "    \n",
    "    # Calculate the coefficients\n",
    "    coeffs = co2.calc_coeffs(temperature, salinity)\n",
    "    k0 = coeffs['k0']\n",
    "    k1 = coeffs['k1']\n",
    "    k2 = coeffs['k2']\n",
    "    kb = coeffs['kb']\n",
    "    kw = coeffs['kw']\n",
    "    BT = coeffs['BT']\n",
    "    \n",
    "    # Calculate CO2* from pCO2\n",
    "    # K0 = [CO2*]/pCO2\n",
    "    co2star = k0 * pCO2\n",
    "    \n",
    "    # If args are not already numpy ndarrays,\n",
    "    # Convert them to ndarrays\n",
    "    if not isinstance(TA,np.ndarray):\n",
    "        TA = np.asarray(TA)\n",
    "        print(type(TA))\n",
    "    if not isinstance(temperature,np.ndarray):\n",
    "        temperature = np.asarray(temperature)\n",
    "    if not isinstance(salinity,np.ndarray):\n",
    "        salinity = np.asarray(salinity)\n",
    "    if not isinstance(pCO2,np.ndarray):\n",
    "        pCO2 = np.asarray(pCO2)\n",
    "    \n",
    "    # Initialize arrays to store results\n",
    "    pH = np.zeros(TA.size)\n",
    "    H = np.zeros(TA.size)\n",
    "    HCO3 = np.zeros(TA.size)\n",
    "    CO3 = np.zeros(TA.size)\n",
    "    Csat = np.zeros(TA.size)\n",
    "    \n",
    "    # If inputs are size 1 are provided\n",
    "    if TA.size == 1:\n",
    "        Hhi = 10**(-pHlo)\n",
    "        phlo = 6\n",
    "        Hlo = 10**(-pHhi)\n",
    "        Hmid = np.mean([Hhi,Hlo])\n",
    "        threshold = Hhi-Hlo\n",
    "        while np.abs(threshold) > 5e-23:\n",
    "            Hmid = np.mean([Hhi,Hlo])\n",
    "            sol = hpoly.H_poly(Hmid, TA, co2star, k0, k1, k2, kb, BT)\n",
    "            if sol > 0:\n",
    "                Hhi = Hmid\n",
    "            elif sol < 0:\n",
    "                Hlo = Hmid\n",
    "            if Hlo > Hhi:\n",
    "                print('mix up')\n",
    "                break\n",
    "            threshold = Hhi-Hlo\n",
    "        Hmid = np.mean([Hhi,Hlo])\n",
    "        H = Hmid\n",
    "        pH = -math.log10(H)\n",
    "    \n",
    "        # K1 = [HCO3][H]/[CO2*]\n",
    "        HCO3 = (k1 * co2star)/H\n",
    "        # k2 = [CO3][H]/[HCO3]\n",
    "        CO3 = (k2 * HCO3)/H\n",
    "        # Csat = CO3 + CO2* + HCO3\n",
    "        Csat = CO3 + co2star + HCO3 \n",
    "    \n",
    "    # If longer inputs provided\n",
    "    else:\n",
    "        for i in np.arange(0,TA.size)-1: \n",
    "            Hhi = 10**(-pHlo)\n",
    "            phlo = 6\n",
    "            Hlo = 10**(-pHhi)\n",
    "            Hmid = np.mean([Hhi,Hlo])\n",
    "            threshold = Hhi-Hlo\n",
    "            while np.abs(threshold) > 5e-23:\n",
    "                Hmid = np.mean([Hhi,Hlo])\n",
    "                sol = hpoly.H_poly(Hmid, TA[i], co2star[i], k0[i], k1[i], k2[i], kb[i], BT[i])\n",
    "                if sol > 0:\n",
    "                    Hhi = Hmid\n",
    "                elif sol < 0:\n",
    "                    Hlo = Hmid\n",
    "                if Hlo > Hhi:\n",
    "                    print('mix up')\n",
    "                    break\n",
    "                threshold = Hhi-Hlo\n",
    "            Hmid = np.mean([Hhi,Hlo])\n",
    "            H[i] = Hmid\n",
    "            pH[i] = -math.log10(H[i])\n",
    "    \n",
    "            # K1 = [HCO3][H]/[CO2*]\n",
    "            HCO3[i] = (k1[i] * co2star[i])/H[i]\n",
    "            # k2 = [CO3][H]/[HCO3]\n",
    "            CO3[i] = (k2[i] * HCO3[i])/H[i]\n",
    "            # Csat = CO3 + CO2* + HCO3\n",
    "            Csat[i] = CO3[i] + co2star[i] + HCO3[i]\n",
    "    \n",
    "    # Return all the data in a dictionary \n",
    "    data = {\n",
    "        '[H+]': H/1e-6,\n",
    "        'pH': pH,\n",
    "        '[HCO3]': HCO3/1e-6,\n",
    "        '[CO3]': CO3/1e-6,\n",
    "        '[CO2*]': co2star/1e-6,\n",
    "        'Csat': Csat/1e-6,\n",
    "        }\n",
    "    return data\n",
    "        "
   ]
  },
  {
   "cell_type": "markdown",
   "id": "80f55768-6e28-4c8e-9b8f-7353c1f31095",
   "metadata": {},
   "source": [
    "## Note that the inputs and outputs of my function are in umol/kg"
   ]
  },
  {
   "cell_type": "code",
   "execution_count": 6,
   "id": "504e158e-adfc-4d1e-b5c2-522ac1c6dfc2",
   "metadata": {},
   "outputs": [
    {
     "name": "stdout",
     "output_type": "stream",
     "text": [
      "<class 'numpy.ndarray'>\n"
     ]
    },
    {
     "data": {
      "text/plain": [
       "{'[H+]': 0.008628886017489654,\n",
       " 'pH': 8.064045267747677,\n",
       " '[HCO3]': 1871.5772430896734,\n",
       " '[CO3]': 197.68372333702308,\n",
       " '[CO2*]': 12.348181085475977,\n",
       " 'Csat': 2081.6091475121725}"
      ]
     },
     "execution_count": 6,
     "metadata": {},
     "output_type": "execute_result"
    }
   ],
   "source": [
    "results = pHsolver(TA = 2350, temperature = 20, salinity = 34.5, pCO2 = 380, pHlo = 7, pHhi = 9)\n",
    "results"
   ]
  },
  {
   "cell_type": "code",
   "execution_count": 7,
   "id": "3b86a87a-6391-4ab8-8712-8d94314efac1",
   "metadata": {},
   "outputs": [
    {
     "data": {
      "text/plain": [
       "{'[H+]': array([0.00867251, 0.00992581]),\n",
       " 'pH': array([8.06185511, 8.00323418]),\n",
       " '[HCO3]': array([1920.58913364, 1627.03413461]),\n",
       " '[CO3]': array([180.49158635, 149.39935735]),\n",
       " '[CO2*]': array([13.31836347, 12.34818109]),\n",
       " 'Csat': array([2114.39908346, 1788.78167304])}"
      ]
     },
     "execution_count": 7,
     "metadata": {},
     "output_type": "execute_result"
    }
   ],
   "source": [
    "ta = np.asarray([2350,2000])\n",
    "T = np.asarray([20,20])\n",
    "S = np.asarray([30,34.5])\n",
    "pCO2 = np.asarray([400,380])\n",
    "pHsolver(TA = ta, temperature = T, salinity = S, pCO2 = pCO2)"
   ]
  },
  {
   "cell_type": "code",
   "execution_count": 8,
   "id": "e7737e43-870b-441a-a343-e81adef4104b",
   "metadata": {},
   "outputs": [
    {
     "ename": "Exception",
     "evalue": "Input arrays are not the same size.",
     "output_type": "error",
     "traceback": [
      "\u001b[0;31m---------------------------------------------------------------------------\u001b[0m",
      "\u001b[0;31mException\u001b[0m                                 Traceback (most recent call last)",
      "\u001b[0;32m/var/folders/9k/5r38tm8d21g6nm3w9rchrd6m0000gn/T/ipykernel_6012/3040507766.py\u001b[0m in \u001b[0;36m<module>\u001b[0;34m\u001b[0m\n\u001b[1;32m      3\u001b[0m \u001b[0mS\u001b[0m \u001b[0;34m=\u001b[0m \u001b[0mnp\u001b[0m\u001b[0;34m.\u001b[0m\u001b[0masarray\u001b[0m\u001b[0;34m(\u001b[0m\u001b[0;34m[\u001b[0m\u001b[0;36m30\u001b[0m\u001b[0;34m,\u001b[0m\u001b[0;36m34.5\u001b[0m\u001b[0;34m]\u001b[0m\u001b[0;34m)\u001b[0m\u001b[0;34m\u001b[0m\u001b[0;34m\u001b[0m\u001b[0m\n\u001b[1;32m      4\u001b[0m \u001b[0mpCO2\u001b[0m \u001b[0;34m=\u001b[0m \u001b[0mnp\u001b[0m\u001b[0;34m.\u001b[0m\u001b[0masarray\u001b[0m\u001b[0;34m(\u001b[0m\u001b[0;34m[\u001b[0m\u001b[0;36m400\u001b[0m\u001b[0;34m,\u001b[0m\u001b[0;36m380\u001b[0m\u001b[0;34m]\u001b[0m\u001b[0;34m)\u001b[0m\u001b[0;34m\u001b[0m\u001b[0;34m\u001b[0m\u001b[0m\n\u001b[0;32m----> 5\u001b[0;31m \u001b[0mpHsolver\u001b[0m\u001b[0;34m(\u001b[0m\u001b[0mTA\u001b[0m \u001b[0;34m=\u001b[0m \u001b[0mta\u001b[0m\u001b[0;34m,\u001b[0m \u001b[0mtemperature\u001b[0m \u001b[0;34m=\u001b[0m \u001b[0mT\u001b[0m\u001b[0;34m,\u001b[0m \u001b[0msalinity\u001b[0m \u001b[0;34m=\u001b[0m \u001b[0mS\u001b[0m\u001b[0;34m,\u001b[0m \u001b[0mpCO2\u001b[0m \u001b[0;34m=\u001b[0m \u001b[0mpCO2\u001b[0m\u001b[0;34m)\u001b[0m\u001b[0;34m\u001b[0m\u001b[0;34m\u001b[0m\u001b[0m\n\u001b[0m",
      "\u001b[0;32m/var/folders/9k/5r38tm8d21g6nm3w9rchrd6m0000gn/T/ipykernel_6012/2855376192.py\u001b[0m in \u001b[0;36mpHsolver\u001b[0;34m(TA, temperature, salinity, pCO2, pHlo, pHhi)\u001b[0m\n\u001b[1;32m     65\u001b[0m     \u001b[0;31m# Check all input arrays are same size\u001b[0m\u001b[0;34m\u001b[0m\u001b[0;34m\u001b[0m\u001b[0m\n\u001b[1;32m     66\u001b[0m     \u001b[0;32mif\u001b[0m \u001b[0;32mnot\u001b[0m \u001b[0;34m(\u001b[0m\u001b[0mTA\u001b[0m\u001b[0;34m.\u001b[0m\u001b[0msize\u001b[0m \u001b[0;34m==\u001b[0m \u001b[0mtemperature\u001b[0m\u001b[0;34m.\u001b[0m\u001b[0msize\u001b[0m \u001b[0;32mand\u001b[0m \u001b[0mTA\u001b[0m\u001b[0;34m.\u001b[0m\u001b[0msize\u001b[0m \u001b[0;34m==\u001b[0m \u001b[0msalinity\u001b[0m\u001b[0;34m.\u001b[0m\u001b[0msize\u001b[0m \u001b[0;32mand\u001b[0m \u001b[0mTA\u001b[0m\u001b[0;34m.\u001b[0m\u001b[0msize\u001b[0m \u001b[0;34m==\u001b[0m \u001b[0mpCO2\u001b[0m\u001b[0;34m.\u001b[0m\u001b[0msize\u001b[0m\u001b[0;34m)\u001b[0m\u001b[0;34m:\u001b[0m\u001b[0;34m\u001b[0m\u001b[0;34m\u001b[0m\u001b[0m\n\u001b[0;32m---> 67\u001b[0;31m         \u001b[0;32mraise\u001b[0m \u001b[0mException\u001b[0m\u001b[0;34m(\u001b[0m\u001b[0;34m\"Input arrays are not the same size.\"\u001b[0m\u001b[0;34m)\u001b[0m\u001b[0;34m\u001b[0m\u001b[0;34m\u001b[0m\u001b[0m\n\u001b[0m\u001b[1;32m     68\u001b[0m     \u001b[0;31m# If pH limits are not explicitly stated\u001b[0m\u001b[0;34m\u001b[0m\u001b[0;34m\u001b[0m\u001b[0m\n\u001b[1;32m     69\u001b[0m     \u001b[0;31m# Default to 6 and 9\u001b[0m\u001b[0;34m\u001b[0m\u001b[0;34m\u001b[0m\u001b[0m\n",
      "\u001b[0;31mException\u001b[0m: Input arrays are not the same size."
     ]
    }
   ],
   "source": [
    "ta = np.asarray([2350])\n",
    "T = np.asarray([20,20])\n",
    "S = np.asarray([30,34.5])\n",
    "pCO2 = np.asarray([400,380])\n",
    "pHsolver(TA = ta, temperature = T, salinity = S, pCO2 = pCO2)"
   ]
  },
  {
   "cell_type": "code",
   "execution_count": 9,
   "id": "9239608c-e523-47ea-8609-380eccc327a9",
   "metadata": {},
   "outputs": [
    {
     "ename": "Exception",
     "evalue": "This function takes TA units of umol/kg. Based on the magnitude of your input, we assume you entered TA in mol/kg.",
     "output_type": "error",
     "traceback": [
      "\u001b[0;31m---------------------------------------------------------------------------\u001b[0m",
      "\u001b[0;31mException\u001b[0m                                 Traceback (most recent call last)",
      "\u001b[0;32m/var/folders/9k/5r38tm8d21g6nm3w9rchrd6m0000gn/T/ipykernel_6012/3584732867.py\u001b[0m in \u001b[0;36m<module>\u001b[0;34m\u001b[0m\n\u001b[1;32m      3\u001b[0m \u001b[0mS\u001b[0m \u001b[0;34m=\u001b[0m \u001b[0mnp\u001b[0m\u001b[0;34m.\u001b[0m\u001b[0masarray\u001b[0m\u001b[0;34m(\u001b[0m\u001b[0;34m[\u001b[0m\u001b[0;36m30\u001b[0m\u001b[0;34m,\u001b[0m\u001b[0;36m34.5\u001b[0m\u001b[0;34m]\u001b[0m\u001b[0;34m)\u001b[0m\u001b[0;34m\u001b[0m\u001b[0;34m\u001b[0m\u001b[0m\n\u001b[1;32m      4\u001b[0m \u001b[0mpCO2\u001b[0m \u001b[0;34m=\u001b[0m \u001b[0mnp\u001b[0m\u001b[0;34m.\u001b[0m\u001b[0masarray\u001b[0m\u001b[0;34m(\u001b[0m\u001b[0;34m[\u001b[0m\u001b[0;36m400\u001b[0m\u001b[0;34m,\u001b[0m\u001b[0;36m380\u001b[0m\u001b[0;34m]\u001b[0m\u001b[0;34m)\u001b[0m\u001b[0;34m\u001b[0m\u001b[0;34m\u001b[0m\u001b[0m\n\u001b[0;32m----> 5\u001b[0;31m \u001b[0mpHsolver\u001b[0m\u001b[0;34m(\u001b[0m\u001b[0mTA\u001b[0m \u001b[0;34m=\u001b[0m \u001b[0mta\u001b[0m\u001b[0;34m,\u001b[0m \u001b[0mtemperature\u001b[0m \u001b[0;34m=\u001b[0m \u001b[0mT\u001b[0m\u001b[0;34m,\u001b[0m \u001b[0msalinity\u001b[0m \u001b[0;34m=\u001b[0m \u001b[0mS\u001b[0m\u001b[0;34m,\u001b[0m \u001b[0mpCO2\u001b[0m \u001b[0;34m=\u001b[0m \u001b[0mpCO2\u001b[0m\u001b[0;34m)\u001b[0m\u001b[0;34m\u001b[0m\u001b[0;34m\u001b[0m\u001b[0m\n\u001b[0m",
      "\u001b[0;32m/var/folders/9k/5r38tm8d21g6nm3w9rchrd6m0000gn/T/ipykernel_6012/2855376192.py\u001b[0m in \u001b[0;36mpHsolver\u001b[0;34m(TA, temperature, salinity, pCO2, pHlo, pHhi)\u001b[0m\n\u001b[1;32m     74\u001b[0m     \u001b[0;31m# Check magnitude of TA and pCO2 to guess if units are right\u001b[0m\u001b[0;34m\u001b[0m\u001b[0;34m\u001b[0m\u001b[0m\n\u001b[1;32m     75\u001b[0m     \u001b[0;32mif\u001b[0m \u001b[0;32mnot\u001b[0m \u001b[0mTA\u001b[0m\u001b[0;34m.\u001b[0m\u001b[0mmin\u001b[0m\u001b[0;34m(\u001b[0m\u001b[0;34m)\u001b[0m \u001b[0;34m>\u001b[0m \u001b[0;36m1\u001b[0m\u001b[0;34m:\u001b[0m\u001b[0;34m\u001b[0m\u001b[0;34m\u001b[0m\u001b[0m\n\u001b[0;32m---> 76\u001b[0;31m         \u001b[0;32mraise\u001b[0m \u001b[0mException\u001b[0m\u001b[0;34m(\u001b[0m\u001b[0;34m'This function takes TA units of umol/kg. Based on the magnitude of your input, we assume you entered TA in mol/kg.'\u001b[0m\u001b[0;34m)\u001b[0m\u001b[0;34m\u001b[0m\u001b[0;34m\u001b[0m\u001b[0m\n\u001b[0m\u001b[1;32m     77\u001b[0m     \u001b[0;32mif\u001b[0m \u001b[0;32mnot\u001b[0m \u001b[0mpCO2\u001b[0m\u001b[0;34m.\u001b[0m\u001b[0mmin\u001b[0m\u001b[0;34m(\u001b[0m\u001b[0;34m)\u001b[0m \u001b[0;34m>\u001b[0m \u001b[0;36m1\u001b[0m\u001b[0;34m:\u001b[0m\u001b[0;34m\u001b[0m\u001b[0;34m\u001b[0m\u001b[0m\n\u001b[1;32m     78\u001b[0m         \u001b[0;32mraise\u001b[0m \u001b[0mException\u001b[0m\u001b[0;34m(\u001b[0m\u001b[0;34m'This function takes pCO2 units of uatm. Based on the magnitude of your input, we assume you entered pCO2 in atm.'\u001b[0m\u001b[0;34m)\u001b[0m\u001b[0;34m\u001b[0m\u001b[0;34m\u001b[0m\u001b[0m\n",
      "\u001b[0;31mException\u001b[0m: This function takes TA units of umol/kg. Based on the magnitude of your input, we assume you entered TA in mol/kg."
     ]
    }
   ],
   "source": [
    "ta = np.asarray([2350, 2000e-6])\n",
    "T = np.asarray([20,20])\n",
    "S = np.asarray([30,34.5])\n",
    "pCO2 = np.asarray([400,380])\n",
    "pHsolver(TA = ta, temperature = T, salinity = S, pCO2 = pCO2)"
   ]
  },
  {
   "cell_type": "code",
   "execution_count": null,
   "id": "12dc9813-2fa1-4e54-851b-06b57d7d8a9b",
   "metadata": {},
   "outputs": [],
   "source": [
    "ta = np.asarray([2350, np.n])\n",
    "T = np.asarray([20,20])\n",
    "S = np.asarray([30,34.5])\n",
    "pCO2 = np.asarray([400,380])\n",
    "pHsolver(TA = ta, temperature = T, salinity = S, pCO2 = pCO2)"
   ]
  }
 ],
 "metadata": {
  "kernelspec": {
   "display_name": "Python 3 (ipykernel)",
   "language": "python",
   "name": "python3"
  },
  "language_info": {
   "codemirror_mode": {
    "name": "ipython",
    "version": 3
   },
   "file_extension": ".py",
   "mimetype": "text/x-python",
   "name": "python",
   "nbconvert_exporter": "python",
   "pygments_lexer": "ipython3",
   "version": "3.9.13"
  }
 },
 "nbformat": 4,
 "nbformat_minor": 5
}
